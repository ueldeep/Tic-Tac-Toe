{
 "cells": [
  {
   "cell_type": "markdown",
   "metadata": {},
   "source": [
    "### Board Class\n",
    "This class will define the game board, it will have the following attributes:\n",
    "* Size\n",
    "* number of players\n",
    "* mark character for each players\n",
    "* list/dectionary to hold board marked cells\n",
    "\n",
    "And it will have the following methods:\n",
    "* `__init__`\n",
    "* `__str__`\n",
    "* `mark_cell`, it will mark an empty cell\n",
    "* `clear_cell`, it will clear a cell\n",
    "* `get_board`, it will return dictionary of all cells\n",
    "* `get_empty_cells`, it will return dictionary of empty cells\n",
    "* `get_player_cells`, it will return marked cells for specific player\n",
    "\n",
    "The board notation will be letters for Columns starting from 'a' \n",
    "and numbers for rows starting from 1. the top left cell will be 'a1"
   ]
  },
  {
   "cell_type": "code",
   "execution_count": 8,
   "metadata": {},
   "outputs": [],
   "source": [
    "import string \n",
    "import random\n",
    "class board:\n",
    "    def __init__(self, size=3, num_players=2, marks=('x','o')):\n",
    "        if size<3 or size > 10:\n",
    "            raise Exception('Error: Borad  size should be between 3 and 10')\n",
    "        elif len(marks)!=num_players:\n",
    "            raise Exception('Error: Number of players and number of marks doesn''t match')\n",
    "        else:    \n",
    "            self.finished = False\n",
    "            self.winner = 0\n",
    "            self.msg = ''\n",
    "            self.size=size\n",
    "            self.empity_cells = size * size\n",
    "            self.num_players=num_players\n",
    "            self.marks=marks\n",
    "            self.cells = dict()\n",
    "            self.diagonals = [[],[]]\n",
    "            self.columns = string.ascii_lowercase[:size]\n",
    "            for col in self.columns:\n",
    "                for row in range(1,size+1):\n",
    "                    key = col+str(row)\n",
    "                    self.cells.update({key:' '})\n",
    "                    if self.columns.index(col)+1 == row:\n",
    "                        self.diagonals[0].append(key)\n",
    "                    if self.columns[::-1].index(col)+1 == row:\n",
    "                        self.diagonals[1].append(key)\n",
    "            \n",
    "            self.players = [ dict({'Num':i+1, 'Mark':marks[i]}) for i in range(self.num_players)]\n",
    "            for player in self.players:\n",
    "                for col in self.columns:\n",
    "                    player.update({str(col):0})\n",
    "                for row in range(1,size+1):\n",
    "                    player.update({str(row):0})\n",
    "                for diag in self.diagonals:\n",
    "                    player.update({''.join(diag):0})\n",
    "    \n",
    "    def __str__(self):\n",
    "        columns = '    '+'   '.join(self.columns)+u'\\n'\n",
    "        topline = (u'  '+ u'\\u250C'+u'\\u2500'*3)+(u'\\u252c'+u'\\u2500'*3)*(self.size-1)+(u'\\u2510')+u'\\n'\n",
    "        dataline = (u' '+ u'\\u2502'+u' '+u'x'+u' ')+(u'\\u2502'+u' '+u'o'+u' ')*(self.size-1)+(u'\\u2502')+u'\\n'\n",
    "        inbetweenline = (u'  '+u'\\u251C'+u'\\u2500'*3)+(u'\\u253c'+u'\\u2500'*3)*(self.size-1)+(u'\\u2524')+u'\\n'\n",
    "        bottomline = (u'  '+u'\\u2514'+u'\\u2500'*3)+(u'\\u2534'+u'\\u2500'*3)*(self.size-1)+(u'\\u2518')+u'\\n'\n",
    "        board = columns\n",
    "        for row in range(1,self.size+1):\n",
    "            dataline = str(row) + u' '+ u'\\u2502'\n",
    "            for data in self.get_cells_values(row):\n",
    "                dataline += u' '+data+ u' '+u'\\u2502'\n",
    "            else:\n",
    "                dataline += u'\\n'\n",
    "            if row == 1 :\n",
    "                board += topline + dataline\n",
    "            else:\n",
    "                board += inbetweenline + dataline\n",
    "        else:\n",
    "            board +=bottomline\n",
    "        return board\n",
    "    \n",
    "    def fill_random(self):\n",
    "          for col in self.columns:\n",
    "                for row in range(1,self.size+1):\n",
    "                    #self.cells.update({col+str(row):random.choice(self.marks+tuple(' '))})\n",
    "                    if random.randint(1,10)%2 ==0:\n",
    "                        self.mark_cell(col+str(row),random.randint(1,self.num_players))\n",
    "                    \n",
    "    def get_cells_values(self,key):\n",
    "        retval = list()\n",
    "        for cell_key in self.cells.keys():\n",
    "            if str(key) in cell_key:\n",
    "                retval.append(self.cells[cell_key])\n",
    "        return retval\n",
    "   \n",
    "\n",
    "    def get_rows_values(self):\n",
    "        retval = list()\n",
    "        for row in range(1,self.size+1):\n",
    "            retval.append(self.get_cells_values(row))\n",
    "        return retval\n",
    "\n",
    "    def get_columns_values(self):\n",
    "        retval = list()\n",
    "        for col in self.columns:\n",
    "            retval.append(self.get_cells_values(col))\n",
    "        return retval\n",
    "\n",
    "    def get_diagonals_values(self):\n",
    "        retval = [[],[]]\n",
    "        for i in range(len(self.diagonals)):\n",
    "            for j in range(len(self.diagonals[i])):\n",
    "                retval[i].insert(j,self.cells[self.diagonals[i][j]])\n",
    "        return retval\n",
    "    \n",
    "    def mark_cell(self, cell_key, player_num):\n",
    "        retval = 0\n",
    "        cell_value = self.cells.get(cell_key,-1)\n",
    "        if self.finished:\n",
    "            retval = 1\n",
    "            self.msg =  'Error: Game finished!'\n",
    "        elif cell_value == -1:\n",
    "            retval = -1\n",
    "            self.msg =  'Error: Wrong cell reference!'\n",
    "        elif cell_value !=' ':\n",
    "            retval = -1\n",
    "            self.msg =  'Error: Cell is not empty!'\n",
    "        else:\n",
    "            self.cells[cell_key] = self.players[player_num-1]['Mark']\n",
    "            self.empity_cells -= 1\n",
    "            self.players[player_num-1][cell_key[0]]+=1\n",
    "            self.players[player_num-1][cell_key[1]]+=1\n",
    "            for i in range(len(self.diagonals)):\n",
    "                for j in range(len(self.diagonals[i])):\n",
    "                    if self.diagonals[i][j] == cell_key:\n",
    "                        self.players[player_num-1][''.join(self.diagonals[i])]+=1\n",
    "            for value in self.players[player_num-1].values():\n",
    "                if value == self.size:\n",
    "                    retval = 1\n",
    "                    self.finished = True\n",
    "                    self.msg = 'Game Over! winner is player number: '+str(player_num)\n",
    "            if retval == 0 and self.empity_cells == 0:\n",
    "                retval = 1\n",
    "                self.finished = True\n",
    "                self.msg = 'Game Over! No winner!'\n",
    "        return retval\n",
    "            \n",
    "    def clear_cell(self, cell_key):\n",
    "        cell_value = self.cells.get(cell_key,-1)\n",
    "        if cell_value == -1:\n",
    "            return 'Error: Wrong cell reference!'\n",
    "        else:\n",
    "            self.cells[cell_key] = ' '\n",
    "            self.empity_cells += 1\n",
    "            self.players[player_num-1][cell_key[0]]-=1\n",
    "            self.players[player_num-1][cell_key[1]]-=1\n",
    "            for i in range(len(self.diagonals)):\n",
    "                for j in range(len(self.diagonals[i])):\n",
    "                    if self.diagonals[i][j] == cell_key:\n",
    "                        self.players[player_num-1][''.join(self.diagonals[i])]-=1\n",
    "                        \n",
    "    def clear_board(self):\n",
    "        self.finished = False\n",
    "        self.winner = 0\n",
    "        self.empity_cells = self.size * self.size\n",
    "        for key in self.cells:\n",
    "            self.cells[key] = ' '\n",
    "        for player in self.players:\n",
    "            for col in self.columns:\n",
    "                player.update({str(col):0})\n",
    "            for row in range(1,size+1):\n",
    "                player.update({str(row):0})\n",
    "            for diag in self.diagonals:\n",
    "                player.update({''.join(diag):0})\n",
    "\n",
    "    def get_board(self):\n",
    "        return self.cells\n",
    "    \n",
    "    def get_empty_cells_keys(self):\n",
    "        return self.get_marked_cells_keys(' ')\n",
    "\n",
    "    def get_player_cells_keys(self, player_num):\n",
    "        if player_num > 0 and player_num <= self.num_players:\n",
    "            return self.get_marked_cells_keys(self.marks[player_num-1])\n",
    "\n",
    "    def get_marked_cells_keys(self, mark):\n",
    "        retval = list()\n",
    "        for key in self.cells:\n",
    "            if self.cells[key] == mark:\n",
    "                retval.append(key)\n",
    "        return retval\n"
   ]
  },
  {
   "cell_type": "code",
   "execution_count": 9,
   "metadata": {},
   "outputs": [],
   "source": [
    "b = board()"
   ]
  },
  {
   "cell_type": "code",
   "execution_count": 10,
   "metadata": {},
   "outputs": [],
   "source": [
    "b.fill_random()"
   ]
  },
  {
   "cell_type": "code",
   "execution_count": 11,
   "metadata": {},
   "outputs": [
    {
     "name": "stdout",
     "output_type": "stream",
     "text": [
      "    a   b   c\n",
      "  ┌───┬───┬───┐\n",
      "1 │   │   │ o │\n",
      "  ├───┼───┼───┤\n",
      "2 │ x │ o │   │\n",
      "  ├───┼───┼───┤\n",
      "3 │ o │ o │   │\n",
      "  └───┴───┴───┘\n",
      "\n"
     ]
    }
   ],
   "source": [
    "print(b)"
   ]
  },
  {
   "cell_type": "code",
   "execution_count": 12,
   "metadata": {},
   "outputs": [
    {
     "data": {
      "text/plain": [
       "True"
      ]
     },
     "execution_count": 12,
     "metadata": {},
     "output_type": "execute_result"
    }
   ],
   "source": [
    "b.finished"
   ]
  },
  {
   "cell_type": "code",
   "execution_count": 13,
   "metadata": {},
   "outputs": [
    {
     "data": {
      "text/plain": [
       "'Error: Game finished!'"
      ]
     },
     "execution_count": 13,
     "metadata": {},
     "output_type": "execute_result"
    }
   ],
   "source": [
    "b.msg"
   ]
  },
  {
   "cell_type": "code",
   "execution_count": 14,
   "metadata": {},
   "outputs": [
    {
     "data": {
      "text/plain": [
       "4"
      ]
     },
     "execution_count": 14,
     "metadata": {},
     "output_type": "execute_result"
    }
   ],
   "source": [
    "b.empity_cells"
   ]
  },
  {
   "cell_type": "code",
   "execution_count": null,
   "metadata": {},
   "outputs": [],
   "source": [
    "b.get_rows_values()"
   ]
  },
  {
   "cell_type": "code",
   "execution_count": null,
   "metadata": {},
   "outputs": [],
   "source": [
    "b.get_columns_values()"
   ]
  },
  {
   "cell_type": "code",
   "execution_count": null,
   "metadata": {},
   "outputs": [],
   "source": [
    "b.get_diagonals_values()"
   ]
  },
  {
   "cell_type": "code",
   "execution_count": null,
   "metadata": {},
   "outputs": [],
   "source": [
    "b.players"
   ]
  },
  {
   "cell_type": "code",
   "execution_count": null,
   "metadata": {},
   "outputs": [],
   "source": [
    "b.diagonals"
   ]
  },
  {
   "cell_type": "code",
   "execution_count": null,
   "metadata": {},
   "outputs": [],
   "source": [
    "b.get_player_cells_keys(2)"
   ]
  },
  {
   "cell_type": "code",
   "execution_count": null,
   "metadata": {},
   "outputs": [],
   "source": [
    "b.get_rows_values()"
   ]
  },
  {
   "cell_type": "code",
   "execution_count": null,
   "metadata": {},
   "outputs": [],
   "source": [
    "b.get_columns_values()"
   ]
  },
  {
   "cell_type": "code",
   "execution_count": null,
   "metadata": {},
   "outputs": [],
   "source": [
    "b.get_diagonals()"
   ]
  },
  {
   "cell_type": "code",
   "execution_count": null,
   "metadata": {},
   "outputs": [],
   "source": [
    "   def print_board(self):\n",
    "        columns = '    '+'   '.join(string.ascii_lowercase[:self.size])+u'\\n'\n",
    "        topline = (u'  '+ u'\\u250C'+u'\\u2500'*3)+(u'\\u252c'+u'\\u2500'*3)*(self.size-1)+(u'\\u2510')+u'\\n'\n",
    "        dataline = (u' '+ u'\\u2502'+u' '+u'x'+u' ')+(u'\\u2502'+u' '+u'o'+u' ')*(self.size-1)+(u'\\u2502')+u'\\n'\n",
    "        inbetweenline = (u'  '+u'\\u251C'+u'\\u2500'*3)+(u'\\u253c'+u'\\u2500'*3)*(self.size-1)+(u'\\u2524')+u'\\n'\n",
    "        bottomline = (u'  '+u'\\u2514'+u'\\u2500'*3)+(u'\\u2534'+u'\\u2500'*3)*(self.size-1)+(u'\\u2518')+u'\\n'\n",
    "        board = columns\n",
    "        for row in range(1,self.size+1):\n",
    "            dataline = str(row) + u' '+ u'\\u2502'\n",
    "            for data in self.get_row(row):\n",
    "                dataline += u' '+data+ u' '+u'\\u2502'\n",
    "            else:\n",
    "                dataline += u'\\n'\n",
    "            if row == 1 :\n",
    "                board += topline + dataline\n",
    "            else:\n",
    "                board += inbetweenline + dataline\n",
    "        else:\n",
    "            board +=bottomline\n",
    "            \n",
    "        print(board)\n",
    "        #print(columns)\n",
    "        #print(dataline)\n",
    "        #print(inbetweenline)\n",
    "        #print(dataline)\n",
    "        #print(bottomline)\n",
    "        \n",
    "        "
   ]
  },
  {
   "cell_type": "code",
   "execution_count": null,
   "metadata": {},
   "outputs": [],
   "source": [
    "l = [[],[]]"
   ]
  },
  {
   "cell_type": "code",
   "execution_count": null,
   "metadata": {},
   "outputs": [],
   "source": [
    "l"
   ]
  },
  {
   "cell_type": "code",
   "execution_count": null,
   "metadata": {},
   "outputs": [],
   "source": []
  }
 ],
 "metadata": {
  "kernelspec": {
   "display_name": "Python 3",
   "language": "python",
   "name": "python3"
  },
  "language_info": {
   "codemirror_mode": {
    "name": "ipython",
    "version": 3
   },
   "file_extension": ".py",
   "mimetype": "text/x-python",
   "name": "python",
   "nbconvert_exporter": "python",
   "pygments_lexer": "ipython3",
   "version": "3.8.5"
  }
 },
 "nbformat": 4,
 "nbformat_minor": 4
}
